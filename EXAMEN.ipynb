{
 "cells": [
  {
   "cell_type": "code",
   "execution_count": 63,
   "metadata": {},
   "outputs": [
    {
     "data": {
      "image/png": "[encoded data removed]",
      "text/plain": [
       "<Figure size 432x288 with 1 Axes>"
      ]
     },
     "metadata": {
      "needs_background": "light"
     },
     "output_type": "display_data"
    }
   ],
   "source": [
    "import matplotlib.pyplot as plt                                                 \n",
    "import numpy as np\n",
    "import math\n",
    "\n",
    "x = np.arange(0.0, 2.0, 0.01)\n",
    "y = sin(z)-cos(x)\n",
    "e = math.e\n",
    "z= e**(x)\n",
    "\n",
    "\n",
    "\n",
    "plt.plot(x, y)\n",
    "\n",
    "plt.title('F(X)')\n",
    "plt.xlabel('X')\n",
    "plt.ylabel('Y')\n",
    "plt.grid(True)\n",
    "plt.legend(['y = f(x)=sin(e^(x)-cos(x)'], loc='upper left')\n",
    "\n",
    "plt.show()"
   ]
  },
  {
   "cell_type": "code",
   "execution_count": 99,
   "metadata": {},
   "outputs": [
    {
     "name": "stdout",
     "output_type": "stream",
     "text": [
      "Y = [18] X = 7\n"
     ]
    }
   ],
   "source": [
    "from sympy.solvers import solve\n",
    "from sympy import Symbol\n",
    "x = Symbol('x')\n",
    "y = Symbol('y')\n",
    "x = 7\n",
    "q = x + y - 25\n",
    "\n",
    "solve(q,y)\n",
    "print('Y =',solve(q,y),'X =',x)"
   ]
  },
  {
   "cell_type": "code",
   "execution_count": 114,
   "metadata": {},
   "outputs": [
    {
     "name": "stdout",
     "output_type": "stream",
     "text": [
      "[10.  1.  1.]\n",
      "Coco + Manzana + 3 Platanos =  12\n"
     ]
    }
   ],
   "source": [
    "a = np.array([[3,0,0],[1,8,0],[0,4,-2]])\n",
    "b = np.array([30,18,2])\n",
    "x = np.linalg.solve(a, b)\n",
    "print(x)\n",
    "y = array(1) + array(2) + 3*array(3)\n",
    "print('Coco + Manzana + 3 Platanos = ',y)"
   ]
  },
  {
   "cell_type": "code",
   "execution_count": 118,
   "metadata": {},
   "outputs": [
    {
     "name": "stdout",
     "output_type": "stream",
     "text": [
      "i hope you didnt translate it by hand. thats what computers   are for. doing it in by hand is inefficient and that's why this text is so long. using string.maketrans() is recommended. now apply on the url.\n"
     ]
    }
   ],
   "source": [
    "import string\n",
    "\n",
    "message = \"g fmnc wms bgblr rpylqjyrc gr zw fylb. rfyrq ufyr amknsrcpq   ypc \" \\\n",
    "          \"dmp. bmgle gr gl zw fylb gq glcddgagclr ylb rfyr'q ufw rfgq \" \\\n",
    "          \"rcvr gq qm jmle. sqgle qrpgle.kyicrpylq() gq pcamkkclbcb. lmu \" \\\n",
    "          \"ynnjw ml rfc spj.\"\n",
    "\n",
    "table = str.maketrans(string.ascii_lowercase, string.ascii_lowercase[2:] + string.ascii_lowercase[:2])\n",
    "\n",
    "print(message.translate(table))"
   ]
  },
  {
   "cell_type": "code",
   "execution_count": 128,
   "metadata": {},
   "outputs": [
    {
     "name": "stdout",
     "output_type": "stream",
     "text": [
      "Requirement already satisfied: pulp in ./anaconda3/lib/python3.7/site-packages (1.6.9)\n",
      "Requirement already satisfied: pyparsing>=2.0.1 in ./anaconda3/lib/python3.7/site-packages (from pulp) (2.3.0)\n"
     ]
    }
   ],
   "source": [
    "!pip install pulp"
   ]
  },
  {
   "cell_type": "code",
   "execution_count": 136,
   "metadata": {},
   "outputs": [
    {
     "name": "stdout",
     "output_type": "stream",
     "text": [
      "x11=1500.0\n",
      "x12=0.0\n",
      "x13=500.0\n",
      "x21=0.0\n",
      "x22=2000.0\n",
      "x23=500.0\n"
     ]
    }
   ],
   "source": [
    "from pulp import *\n",
    "pulp.LpVariable?\n",
    "\n",
    "mi_lp_problema = pulp.LpProblem('', pulp.LpMinimize)\n",
    "\n",
    "x11 = pulp.LpVariable('x11', lowBound = 0, cat = 'Continuous')\n",
    "x12 = pulp.LpVariable('x12', lowBound = 0, cat = 'Continuous')\n",
    "x13 = pulp.LpVariable('x13', lowBound = 0, cat = 'Continuous')\n",
    "x21 = pulp.LpVariable('x21', lowBound = 0, cat = 'Continuous')\n",
    "x22 = pulp.LpVariable('x22', lowBound = 0, cat = 'Continuous')\n",
    "x23 = pulp.LpVariable('x23', lowBound = 0, cat = 'Continuous')\n",
    "\n",
    "\n",
    "mi_lp_problema += 8*x11 + 6*x12 + 10*x13 + 10*x21 + 4*x22 + 9*x23\n",
    "\n",
    "\n",
    "mi_lp_problema += x11 + x12 + x13 == 2000\n",
    "mi_lp_problema += x21 + x22 + x23 == 2500\n",
    "mi_lp_problema += x11 + x21 == 1500\n",
    "mi_lp_problema += x12 + x22 == 2000\n",
    "mi_lp_problema += x13 + x23 == 1000\n",
    "mi_lp_problema += x11 >= 0\n",
    "mi_lp_problema += x12 >= 0\n",
    "mi_lp_problema += x13 >= 0\n",
    "mi_lp_problema += x21 >= 0\n",
    "mi_lp_problema += x22 >= 0\n",
    "mi_lp_problema += x23 >= 0\n",
    "mi_lp_problema.solve()\n",
    "\n",
    "pulp.LpStatus[mi_lp_problema.status]\n",
    "for variable in mi_lp_problema.variables():\n",
    "    print (\"{}={}\".format(variable.name, variable.varValue))"
   ]
  },
  {
   "cell_type": "code",
   "execution_count": null,
   "metadata": {},
   "outputs": [],
   "source": []
  },
  {
   "cell_type": "code",
   "execution_count": null,
   "metadata": {},
   "outputs": [],
   "source": []
  }
 ],
 "metadata": {
  "kernelspec": {
   "display_name": "Python 3",
   "language": "python",
   "name": "python3"
  },
  "language_info": {
   "codemirror_mode": {
    "name": "ipython",
    "version": 3
   },
   "file_extension": ".py",
   "mimetype": "text/x-python",
   "name": "python",
   "nbconvert_exporter": "python",
   "pygments_lexer": "ipython3",
   "version": "3.7.1"
  }
 },
 "nbformat": 4,
 "nbformat_minor": 2
}
